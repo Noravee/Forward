{
 "cells": [
  {
   "cell_type": "code",
   "execution_count": null,
   "metadata": {},
   "outputs": [],
   "source": [
    "import numpy as np\n",
    "import pandas as pd\n",
    "import plotly.express as px\n",
    "import plotly.graph_objects as go\n",
    "from plotly.subplots import make_subplots\n",
    "from tqdm import tqdm"
   ]
  },
  {
   "cell_type": "code",
   "execution_count": null,
   "metadata": {},
   "outputs": [],
   "source": [
    "def uniform(shift:float=0)->np.array:\n",
    "    '''adjusted so that variance is 1 and center is 0.'''\n",
    "    return 12**0.5*np.random.rand(100000)-3**0.5+shift\n",
    "\n",
    "def gaussian(shift:float=0)->np.array:\n",
    "    return np.random.randn(100000)+shift\n",
    "\n",
    "def tanh(x: np.array)->np.array:\n",
    "    return np.tanh(x)\n",
    "\n",
    "def sigmoid(x: np.array)->np.array:\n",
    "    return 1/(1 + np.exp(-x))\n",
    "\n",
    "def relu(x: np.array)->np.array:\n",
    "    return np.maximum(0, x)\n",
    "\n",
    "def elu(x: np.array)->np.array:\n",
    "    return np.maximum(0, x)+np.minimum(0, np.exp(x)-1)"
   ]
  },
  {
   "cell_type": "code",
   "execution_count": null,
   "metadata": {},
   "outputs": [],
   "source": [
    "def plot(data:np.array):\n",
    "    fig = px.histogram(data, histnorm='probability density')\n",
    "    fig.update_layout(showlegend=False)\n",
    "    fig.show('png')\n",
    "    print(f'mean: {data.mean()}, variance: {data.var()}')"
   ]
  },
  {
   "cell_type": "markdown",
   "metadata": {},
   "source": [
    "# Uniform and Gaussian distributions"
   ]
  },
  {
   "cell_type": "code",
   "execution_count": null,
   "metadata": {},
   "outputs": [],
   "source": [
    "plot(uniform())"
   ]
  },
  {
   "cell_type": "code",
   "execution_count": null,
   "metadata": {},
   "outputs": [],
   "source": [
    "plot(gaussian())"
   ]
  },
  {
   "cell_type": "markdown",
   "metadata": {},
   "source": [
    "# Products"
   ]
  },
  {
   "cell_type": "markdown",
   "metadata": {},
   "source": [
    "## Even uniform distributions"
   ]
  },
  {
   "cell_type": "code",
   "execution_count": null,
   "metadata": {},
   "outputs": [],
   "source": [
    "\n",
    "plot(uniform()*uniform())"
   ]
  },
  {
   "cell_type": "markdown",
   "metadata": {},
   "source": [
    "## Even and positive uniform distributions"
   ]
  },
  {
   "cell_type": "code",
   "execution_count": null,
   "metadata": {},
   "outputs": [],
   "source": [
    "plot(uniform()*uniform(3**0.5))"
   ]
  },
  {
   "cell_type": "markdown",
   "metadata": {},
   "source": [
    "## Positive uniform distributions"
   ]
  },
  {
   "cell_type": "code",
   "execution_count": null,
   "metadata": {},
   "outputs": [],
   "source": [
    "plot(uniform(3**0.5)*uniform(3**0.5))"
   ]
  },
  {
   "cell_type": "markdown",
   "metadata": {},
   "source": [
    "## Positive and negative uniform distributions"
   ]
  },
  {
   "cell_type": "code",
   "execution_count": null,
   "metadata": {},
   "outputs": [],
   "source": [
    "plot(uniform(3**0.5)*uniform(-3**0.5))"
   ]
  },
  {
   "cell_type": "markdown",
   "metadata": {},
   "source": [
    "## Gaussian distributions"
   ]
  },
  {
   "cell_type": "code",
   "execution_count": null,
   "metadata": {},
   "outputs": [],
   "source": [
    "plot(gaussian()*gaussian())"
   ]
  },
  {
   "cell_type": "markdown",
   "metadata": {},
   "source": [
    "## Gaussian and even uniform distributions"
   ]
  },
  {
   "cell_type": "code",
   "execution_count": null,
   "metadata": {},
   "outputs": [],
   "source": [
    "plot(gaussian()*uniform())"
   ]
  },
  {
   "cell_type": "markdown",
   "metadata": {},
   "source": [
    "## Gaussian and positive uniform distrubutions"
   ]
  },
  {
   "cell_type": "code",
   "execution_count": null,
   "metadata": {},
   "outputs": [],
   "source": [
    "plot(gaussian()*uniform(3**0.5))"
   ]
  },
  {
   "cell_type": "markdown",
   "metadata": {},
   "source": [
    "## Positive Gaussian distribution"
   ]
  },
  {
   "cell_type": "code",
   "execution_count": null,
   "metadata": {},
   "outputs": [],
   "source": [
    "plot(gaussian()*gaussian(0.5))"
   ]
  },
  {
   "cell_type": "markdown",
   "metadata": {},
   "source": [
    "## Positive Gaussian and even uniform distribution"
   ]
  },
  {
   "cell_type": "code",
   "execution_count": null,
   "metadata": {},
   "outputs": [],
   "source": [
    "plot(gaussian(0.5)*uniform())"
   ]
  },
  {
   "cell_type": "markdown",
   "metadata": {},
   "source": [
    "## Summary"
   ]
  },
  {
   "cell_type": "code",
   "execution_count": null,
   "metadata": {},
   "outputs": [],
   "source": [
    "fig = go.Figure()\n",
    "\n",
    "# Set histnorm to 'probability density' and xbins size if needed\n",
    "fig.add_trace(go.Histogram(x=uniform(), histnorm='probability density', name='U'))\n",
    "fig.add_trace(go.Histogram(x=uniform()*uniform(), histnorm='probability density', name='U-U'))\n",
    "fig.add_trace(go.Histogram(x=uniform()*uniform(3**0.5), histnorm='probability density', name='U-Up'))\n",
    "fig.add_trace(go.Histogram(x=uniform(3**0.5)*uniform(3**0.5), histnorm='probability density', name='Up-Up'))\n",
    "fig.add_trace(go.Histogram(x=uniform(3**0.5)*uniform(-3**0.5), histnorm='probability density', name='Up-Un'))\n",
    "fig.add_trace(go.Histogram(x=gaussian(), histnorm='probability density', name='G'))\n",
    "fig.add_trace(go.Histogram(x=gaussian()*gaussian(), histnorm='probability density', name='G-G'))\n",
    "fig.add_trace(go.Histogram(x=gaussian()*uniform(), histnorm='probability density', name='G-U'))\n",
    "fig.add_trace(go.Histogram(x=gaussian()*uniform(3**0.5), histnorm='probability density', name='G-Up'))\n",
    "\n",
    "# Overlay both histograms\n",
    "fig.update_layout(barmode='overlay')\n",
    "\n",
    "# Reduce opacity to see both histograms\n",
    "fig.update_traces(opacity=0.75)\n",
    "\n",
    "# Set x-axis range\n",
    "fig.update_xaxes(range=[-3, 3])\n",
    "\n",
    "fig.show()\n"
   ]
  },
  {
   "cell_type": "markdown",
   "metadata": {},
   "source": [
    "# Sum"
   ]
  },
  {
   "cell_type": "code",
   "execution_count": null,
   "metadata": {},
   "outputs": [],
   "source": [
    "plot(uniform()*uniform()+uniform()*uniform())"
   ]
  },
  {
   "cell_type": "code",
   "execution_count": null,
   "metadata": {},
   "outputs": [],
   "source": [
    "plot(uniform()*uniform()+uniform()*uniform(3**0.5))"
   ]
  },
  {
   "cell_type": "code",
   "execution_count": null,
   "metadata": {},
   "outputs": [],
   "source": [
    "plot(uniform()*uniform()+uniform(3**0.5)*uniform(3**0.5))"
   ]
  },
  {
   "cell_type": "code",
   "execution_count": null,
   "metadata": {},
   "outputs": [],
   "source": [
    "plot(uniform()*uniform()+uniform(3**0.5)*uniform(-3**0.5))"
   ]
  },
  {
   "cell_type": "code",
   "execution_count": null,
   "metadata": {},
   "outputs": [],
   "source": [
    "plot(uniform()*uniform()+gaussian()*gaussian())"
   ]
  },
  {
   "cell_type": "code",
   "execution_count": null,
   "metadata": {},
   "outputs": [],
   "source": [
    "plot(uniform()*uniform()+gaussian()*uniform())"
   ]
  },
  {
   "cell_type": "code",
   "execution_count": null,
   "metadata": {},
   "outputs": [],
   "source": [
    "plot(uniform()*uniform()+gaussian()*uniform(3**0.5))"
   ]
  },
  {
   "cell_type": "code",
   "execution_count": null,
   "metadata": {},
   "outputs": [],
   "source": [
    "plot(uniform()*uniform(3**0.5)+uniform()*uniform(3**0.5))"
   ]
  },
  {
   "cell_type": "code",
   "execution_count": null,
   "metadata": {},
   "outputs": [],
   "source": [
    "plot(uniform()*uniform(3**0.5)+uniform(3**0.5)*uniform(3**0.5))"
   ]
  },
  {
   "cell_type": "code",
   "execution_count": null,
   "metadata": {},
   "outputs": [],
   "source": [
    "plot(uniform()*uniform(3**0.5)+uniform()*uniform(-3**0.5))"
   ]
  },
  {
   "cell_type": "code",
   "execution_count": null,
   "metadata": {},
   "outputs": [],
   "source": [
    "plot(uniform()*uniform(3**0.5)+gaussian()*gaussian())"
   ]
  },
  {
   "cell_type": "code",
   "execution_count": null,
   "metadata": {},
   "outputs": [],
   "source": [
    "plot(uniform()*uniform(3**0.5)+gaussian()*uniform(3**0.5))"
   ]
  },
  {
   "cell_type": "code",
   "execution_count": null,
   "metadata": {},
   "outputs": [],
   "source": [
    "plot(uniform(3**0.5)*uniform(3**0.5)+uniform(3**0.5)*uniform(3**0.5))"
   ]
  },
  {
   "cell_type": "code",
   "execution_count": null,
   "metadata": {},
   "outputs": [],
   "source": [
    "plot(uniform(3**0.5)*uniform(3**0.5)+uniform(3**0.5)*uniform(-3**0.5))"
   ]
  },
  {
   "cell_type": "code",
   "execution_count": null,
   "metadata": {},
   "outputs": [],
   "source": [
    "plot(uniform(3**0.5)*uniform(3**0.5)+gaussian()*gaussian())"
   ]
  },
  {
   "cell_type": "code",
   "execution_count": null,
   "metadata": {},
   "outputs": [],
   "source": [
    "plot(uniform(3**0.5)*uniform(3**0.5)+gaussian()*uniform())"
   ]
  },
  {
   "cell_type": "code",
   "execution_count": null,
   "metadata": {},
   "outputs": [],
   "source": [
    "plot(uniform(3**0.5)*uniform(3**0.5)+gaussian()*uniform(3**0.5))"
   ]
  },
  {
   "cell_type": "code",
   "execution_count": null,
   "metadata": {},
   "outputs": [],
   "source": [
    "plot(uniform(3**0.5)*uniform(-3**0.5)+uniform(3**0.5)*uniform(-3**0.5))"
   ]
  },
  {
   "cell_type": "code",
   "execution_count": null,
   "metadata": {},
   "outputs": [],
   "source": [
    "plot(uniform(3**0.5)*uniform(-3**0.5)+gaussian()*gaussian())"
   ]
  },
  {
   "cell_type": "code",
   "execution_count": null,
   "metadata": {},
   "outputs": [],
   "source": [
    "plot(uniform(3**0.5)*uniform(-3**0.5)+gaussian()*uniform())"
   ]
  },
  {
   "cell_type": "code",
   "execution_count": null,
   "metadata": {},
   "outputs": [],
   "source": [
    "plot(uniform(3**0.5)*uniform(-3**0.5)+gaussian()*uniform(3**0.5))"
   ]
  },
  {
   "cell_type": "code",
   "execution_count": null,
   "metadata": {},
   "outputs": [],
   "source": [
    "plot(gaussian()*gaussian()+gaussian()*gaussian())"
   ]
  },
  {
   "cell_type": "code",
   "execution_count": null,
   "metadata": {},
   "outputs": [],
   "source": [
    "plot(gaussian()*gaussian()+gaussian()*uniform())"
   ]
  },
  {
   "cell_type": "code",
   "execution_count": null,
   "metadata": {},
   "outputs": [],
   "source": [
    "plot(gaussian()*gaussian()+gaussian()*uniform(3**0.5))"
   ]
  },
  {
   "cell_type": "code",
   "execution_count": null,
   "metadata": {},
   "outputs": [],
   "source": [
    "plot(gaussian()*uniform()+gaussian()*uniform())"
   ]
  },
  {
   "cell_type": "code",
   "execution_count": null,
   "metadata": {},
   "outputs": [],
   "source": [
    "plot(gaussian()*uniform()+gaussian()*uniform(3**0.5))"
   ]
  },
  {
   "cell_type": "code",
   "execution_count": null,
   "metadata": {},
   "outputs": [],
   "source": [
    "plot(gaussian()*uniform(3**0.5)+gaussian()*uniform(3**0.5))"
   ]
  },
  {
   "cell_type": "markdown",
   "metadata": {},
   "source": [
    "# Activation"
   ]
  },
  {
   "cell_type": "markdown",
   "metadata": {},
   "source": [
    "## tanh"
   ]
  },
  {
   "cell_type": "code",
   "execution_count": null,
   "metadata": {},
   "outputs": [],
   "source": [
    "plot(tanh(uniform()))"
   ]
  },
  {
   "cell_type": "code",
   "execution_count": null,
   "metadata": {},
   "outputs": [],
   "source": [
    "plot(tanh(uniform(3**0.5)))"
   ]
  },
  {
   "cell_type": "code",
   "execution_count": null,
   "metadata": {},
   "outputs": [],
   "source": [
    "plot(tanh(gaussian()))"
   ]
  },
  {
   "cell_type": "code",
   "execution_count": null,
   "metadata": {},
   "outputs": [],
   "source": [
    "plot(tanh(np.random.normal(0, 0.5, 100000)))"
   ]
  },
  {
   "cell_type": "code",
   "execution_count": null,
   "metadata": {},
   "outputs": [],
   "source": [
    "plot(tanh(uniform()*uniform()))"
   ]
  },
  {
   "cell_type": "code",
   "execution_count": null,
   "metadata": {},
   "outputs": [],
   "source": [
    "plot(tanh(uniform()*uniform()+uniform()*uniform()))"
   ]
  },
  {
   "cell_type": "code",
   "execution_count": null,
   "metadata": {},
   "outputs": [],
   "source": [
    "plot(tanh(uniform(3**0.5)*uniform(3**0.5)))"
   ]
  },
  {
   "cell_type": "code",
   "execution_count": null,
   "metadata": {},
   "outputs": [],
   "source": [
    "plot(tanh(uniform()*uniform()+uniform(3**0.5)*uniform(3**0.5)))"
   ]
  },
  {
   "cell_type": "code",
   "execution_count": null,
   "metadata": {},
   "outputs": [],
   "source": [
    "plot(tanh(gaussian()*gaussian()))"
   ]
  },
  {
   "cell_type": "code",
   "execution_count": null,
   "metadata": {},
   "outputs": [],
   "source": [
    "plot(tanh(gaussian()*gaussian()+gaussian()*gaussian()))"
   ]
  },
  {
   "cell_type": "code",
   "execution_count": null,
   "metadata": {},
   "outputs": [],
   "source": [
    "fig = go.Figure()\n",
    "\n",
    "# Set histnorm to 'probability density' and xbins size if needed\n",
    "fig.add_trace(go.Histogram(x=tanh(np.random.normal(0, 0.25, 100000)), histnorm='probability density', name='var=0.25'))\n",
    "fig.add_trace(go.Histogram(x=tanh(np.random.normal(0, 0.5, 100000)), histnorm='probability density', name='var=0.50'))\n",
    "fig.add_trace(go.Histogram(x=tanh(np.random.normal(0, 0.75, 100000)), histnorm='probability density', name='var=0.75'))\n",
    "fig.add_trace(go.Histogram(x=tanh(np.random.normal(0, 1, 100000)), histnorm='probability density', name='var=1.00'))\n",
    "\n",
    "# Overlay both histograms\n",
    "fig.update_layout(barmode='overlay')\n",
    "\n",
    "# Reduce opacity to see both histograms\n",
    "fig.update_traces(opacity=0.75)\n",
    "\n",
    "# Set x-axis range\n",
    "#fig.update_xaxes(range=[-3, 3])\n",
    "\n",
    "fig.show('png')"
   ]
  },
  {
   "cell_type": "markdown",
   "metadata": {},
   "source": [
    "## sigmoid"
   ]
  },
  {
   "cell_type": "code",
   "execution_count": null,
   "metadata": {},
   "outputs": [],
   "source": [
    "plot(sigmoid(uniform()))"
   ]
  },
  {
   "cell_type": "code",
   "execution_count": null,
   "metadata": {},
   "outputs": [],
   "source": [
    "plot(sigmoid(uniform(3**0.5)))"
   ]
  },
  {
   "cell_type": "code",
   "execution_count": null,
   "metadata": {},
   "outputs": [],
   "source": [
    "plot(sigmoid(gaussian()))"
   ]
  },
  {
   "cell_type": "code",
   "execution_count": null,
   "metadata": {},
   "outputs": [],
   "source": [
    "plot(sigmoid(gaussian(0.5)))"
   ]
  },
  {
   "cell_type": "code",
   "execution_count": null,
   "metadata": {},
   "outputs": [],
   "source": [
    "fig = go.Figure()\n",
    "\n",
    "# Set histnorm to 'probability density' and xbins size if needed\n",
    "fig.add_trace(go.Histogram(x=sigmoid(np.random.normal(0, 0.25, 100000)), histnorm='probability density', name='var=0.25'))\n",
    "fig.add_trace(go.Histogram(x=sigmoid(np.random.normal(0, 0.5, 100000)), histnorm='probability density', name='var=0.50'))\n",
    "fig.add_trace(go.Histogram(x=sigmoid(np.random.normal(0, 0.75, 100000)), histnorm='probability density', name='var=0.75'))\n",
    "fig.add_trace(go.Histogram(x=sigmoid(np.random.normal(0, 1, 100000)), histnorm='probability density', name='var=1.00'))\n",
    "fig.add_trace(go.Histogram(x=sigmoid(np.random.normal(0, 2, 100000)), histnorm='probability density', name='var=2.00'))\n",
    "\n",
    "\n",
    "# Overlay both histograms\n",
    "fig.update_layout(barmode='overlay')\n",
    "\n",
    "# Reduce opacity to see both histograms\n",
    "fig.update_traces(opacity=0.5)\n",
    "\n",
    "# Set x-axis range\n",
    "#fig.update_xaxes(range=[-3, 3])\n",
    "\n",
    "fig.show('png')"
   ]
  },
  {
   "cell_type": "markdown",
   "metadata": {},
   "source": [
    "## relu"
   ]
  },
  {
   "cell_type": "code",
   "execution_count": null,
   "metadata": {},
   "outputs": [],
   "source": [
    "fig = go.Figure()\n",
    "\n",
    "# Set histnorm to 'probability density' and xbins size if needed\n",
    "fig.add_trace(go.Histogram(x=relu(np.random.normal(0, 0.25, 100000)), histnorm='probability density', name='var=0.25'))\n",
    "fig.add_trace(go.Histogram(x=relu(np.random.normal(0, 0.5, 100000)), histnorm='probability density', name='var=0.50'))\n",
    "fig.add_trace(go.Histogram(x=relu(np.random.normal(0, 0.75, 100000)), histnorm='probability density', name='var=0.75'))\n",
    "fig.add_trace(go.Histogram(x=relu(np.random.normal(0, 1, 100000)), histnorm='probability density', name='var=1.00'))\n",
    "fig.add_trace(go.Histogram(x=relu(np.random.normal(0, 2, 100000)), histnorm='probability density', name='var=2.00'))\n",
    "\n",
    "\n",
    "# Overlay both histograms\n",
    "fig.update_layout(barmode='overlay')\n",
    "\n",
    "# Reduce opacity to see both histograms\n",
    "fig.update_traces(opacity=0.5)\n",
    "\n",
    "# Set x-axis range\n",
    "fig.update_xaxes(range=[0, 0.1])\n",
    "\n",
    "fig.show('png')"
   ]
  },
  {
   "cell_type": "markdown",
   "metadata": {},
   "source": [
    "## elu"
   ]
  },
  {
   "cell_type": "code",
   "execution_count": null,
   "metadata": {},
   "outputs": [],
   "source": [
    "fig = go.Figure()\n",
    "\n",
    "# Set histnorm to 'probability density' and xbins size if needed\n",
    "fig.add_trace(go.Histogram(x=elu(np.random.normal(0, 0.25, 100000)), histnorm='probability density', name='var=0.25'))\n",
    "fig.add_trace(go.Histogram(x=elu(np.random.normal(0, 0.5, 100000)), histnorm='probability density', name='var=0.50'))\n",
    "fig.add_trace(go.Histogram(x=elu(np.random.normal(0, 0.75, 100000)), histnorm='probability density', name='var=0.75'))\n",
    "fig.add_trace(go.Histogram(x=elu(np.random.normal(0, 1, 100000)), histnorm='probability density', name='var=1.00'))\n",
    "fig.add_trace(go.Histogram(x=elu(np.random.normal(0, 2, 100000)), histnorm='probability density', name='var=2.00'))\n",
    "\n",
    "\n",
    "# Overlay both histograms\n",
    "fig.update_layout(barmode='overlay')\n",
    "\n",
    "# Reduce opacity to see both histograms\n",
    "fig.update_traces(opacity=0.5)\n",
    "\n",
    "# Set x-axis range\n",
    "fig.update_xaxes(range=[-2, 2])\n",
    "\n",
    "fig.show('png')"
   ]
  },
  {
   "cell_type": "code",
   "execution_count": null,
   "metadata": {},
   "outputs": [],
   "source": [
    "for i in tqdm(range(10)):\n",
    "    a = 0\n",
    "    for j in tqdm(range(100)):\n",
    "        a+=1"
   ]
  },
  {
   "cell_type": "code",
   "execution_count": null,
   "metadata": {},
   "outputs": [],
   "source": []
  }
 ],
 "metadata": {
  "kernelspec": {
   "display_name": "nn",
   "language": "python",
   "name": "python3"
  },
  "language_info": {
   "codemirror_mode": {
    "name": "ipython",
    "version": 3
   },
   "file_extension": ".py",
   "mimetype": "text/x-python",
   "name": "python",
   "nbconvert_exporter": "python",
   "pygments_lexer": "ipython3",
   "version": "3.12.4"
  }
 },
 "nbformat": 4,
 "nbformat_minor": 2
}
